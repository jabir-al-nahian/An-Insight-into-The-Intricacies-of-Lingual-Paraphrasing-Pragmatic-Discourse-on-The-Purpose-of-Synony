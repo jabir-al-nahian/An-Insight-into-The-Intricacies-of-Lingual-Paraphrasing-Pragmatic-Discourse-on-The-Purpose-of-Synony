{
  "nbformat": 4,
  "nbformat_minor": 0,
  "metadata": {
    "colab": {
      "name": "NltkUpdated.ipynb",
      "provenance": [],
      "authorship_tag": "ABX9TyMWd1x3SJQvZ8cHD2iNQsQx",
      "include_colab_link": true
    },
    "kernelspec": {
      "name": "python3",
      "display_name": "Python 3"
    },
    "language_info": {
      "name": "python"
    }
  },
  "cells": [
    {
      "cell_type": "markdown",
      "metadata": {
        "id": "view-in-github",
        "colab_type": "text"
      },
      "source": [
        "<a href=\"https://colab.research.google.com/github/jabir-al-nahian/An-Insight-into-The-Intricacies-of-Lingual-Paraphrasing-Pragmatic-Discourse-on-The-Purpose-of-Synony/blob/main/code/paraphrasing.ipynb\" target=\"_parent\"><img src=\"https://colab.research.google.com/assets/colab-badge.svg\" alt=\"Open In Colab\"/></a>"
      ]
    },
    {
      "cell_type": "code",
      "metadata": {
        "colab": {
          "base_uri": "https://localhost:8080/"
        },
        "id": "2yLnsLc4o0AZ",
        "outputId": "51fc704b-201e-4bba-be35-a16fe6004575"
      },
      "source": [
        "%%time\n",
        "def getChangedSentence(stringData):\n",
        "  import os\n",
        "  import nltk\n",
        "  nltk.download('wordnet')\n",
        "  from nltk.corpus import wordnet as wn\n",
        "\n",
        "  wordList = stringData.split(\" \")\n",
        "  preposition = [\"about\",\"anti\",\"around\",\"as\",\"at\",\"because\",\"but\",\"by\",\"for\",\"from\",\"in\",\"into\",\"minus\",\"of\",\"off\",\n",
        "               \"on\",\"onto\",\"per\",\"since\",\"than\",\"through\",\"to\",\"toward\",\"towards\",\"under\",\"underneath\",\"unlike\",\n",
        "               \"until\",\"upon\",\"versus\",\"via\",\"with\",\"within\",\"without\"]\n",
        "  whQuestion = [\"what\",\"when\",\"where\",\"which\",\"who\",\"whom\",\"whose\",\"why\",\"how\"]\n",
        "  numbers = [\"one\",\"two\",\"three\",\"four\",\"five\",\"six\",\"seven\",\"eight\",\"nine\",\"ten\",\"eleven\",\"twelve\",\"thirteen\",\n",
        "            \"fourteen\",\"fifteen\",\"sixteen\",\"seventeen\",\"eighteen\",\"nineteen\",\"twenty\",\"thirty\",\"forty\",\"fifty\",\n",
        "            \"sixty\",\"seventy\",\"eighty\",\"ninety\",\"hundred\"]\n",
        "  auxilaryVerb = [\"am\", \"is\", \"are\", \"was\", \"were\", \"being\", \"been\", \"will\",\"has\", \"have\", \"had\", \"having\",\"does\", \"do\", \"did\",\n",
        "                  \"shall\",\"should\",\"would\",\"could\"]\n",
        "  pronouns = [\"i\",\"we\",\"you\",\"he\",\"she\",\"it\",\"they\",\"me\",\"us\",\"her\",\"him\",\"them\",\"mine\",\"ours\",\"yours\",\"hers\",\n",
        "              \"his\",\"theirs\",\"my\",\"our\",\"your\",\"her\",\"his\",\"their\",\"myself\",\"yourself\",\"herself\",\"himself\",\n",
        "              \"itself\",\"ourselves\",\"yourselves\",\"themselves\",\"such\",\"that\",\"these\",\"this\",\"those\"]\n",
        "  randomWord = [\"not\",\"no\",\"a\",\"an\"]\n",
        "\n",
        "  def getSynonym(word):\n",
        "    for i in wn.synsets(word):\n",
        "      for j in i.lemmas():\n",
        "        d = j.name()\n",
        "        if word not in d and d not in word: return d\n",
        "\n",
        "  matchCount = 0\n",
        "  for i in range(len(wordList)):\n",
        "    word = wordList[i]\n",
        "    j = word.lower()\n",
        "    lastIndexData = word[-1]\n",
        "    if lastIndexData in \",.?!\\n\":\n",
        "      if lastIndexData == \"n\":\n",
        "        lastIndexData = \"\\n\"\n",
        "        word = word[:-2]\n",
        "      else:word = word[:-1]\n",
        "    elif j in preposition or j in whQuestion or j in numbers or j in auxilaryVerb or j in pronouns or j in randomWord:\n",
        "      continue\n",
        "    else:lastIndexData = \"\"\n",
        "    synonym = getSynonym(word)\n",
        "    if synonym is not None:\n",
        "      matchCount += 1\n",
        "      wordList[i] = synonym+lastIndexData\n",
        "  newString = \" \".join(wordList)\n",
        "  print(\"\\tOld Text >>>>\")\n",
        "  print(stringData)\n",
        "  print(\"\\tNew Text >>>>\")\n",
        "  print(newString)\n",
        "  print(f\"Similarity = {((len(wordList)-matchCount)/len(wordList))*100} %\")\n",
        "\n",
        "myText = input()\n",
        "getChangedSentence(myText)"
      ],
      "execution_count": null,
      "outputs": [
        {
          "output_type": "stream",
          "name": "stdout",
          "text": [
            "I had never seen a house on fire before, so, one evening when I heard fire engines with loud alarm bells rushing past my house. I quickly ran out and, a few streets away, joined a large crowd of people. We could see the fire only from a distance because the police would not allow any one near the building on fire. What a terrible scene I saw that day! Huge flames of fire were coming out of each floor, and black and thick smoke spread all around. Four fire engines were engaged and the firemen in their uniform were playing the hose on various parts of the building. Then the tall ladders of the fire engine were stretched upwards. Some firemen climbed up with hoses in their hands. The continuous flooding brought the fire under control but the building was completely destroyed\n",
            "[nltk_data] Downloading package wordnet to /root/nltk_data...\n",
            "[nltk_data]   Package wordnet is already up-to-date!\n",
            "\tOld Text >>>>\n",
            "I had never seen a house on fire before, so, one evening when I heard fire engines with loud alarm bells rushing past my house. I quickly ran out and, a few streets away, joined a large crowd of people. We could see the fire only from a distance because the police would not allow any one near the building on fire. What a terrible scene I saw that day! Huge flames of fire were coming out of each floor, and black and thick smoke spread all around. Four fire engines were engaged and the firemen in their uniform were playing the hose on various parts of the building. Then the tall ladders of the fire engine were stretched upwards. Some firemen climbed up with hoses in their hands. The continuous flooding brought the fire under control but the building was completely destroyed\n",
            "\tNew Text >>>>\n",
            "I had ne'er understand a firm on firing earlier, thus, one eventide when I learn firing locomotive with brassy dismay doorbell haste yesteryear my firm. I rapidly run extinct and, a few streets outside, fall_in a big crew of citizenry. We could understand the firing lone from a length because the constabulary would not let whatever one approach the edifice on firing. What a awful view I proverb that twenty-four_hours! huge fire of firing were approach extinct of apiece level, and inkiness and midst fume gap wholly about. Four firing locomotive were prosecute and the fireman in their unvarying were acting the hosiery on assorted portion of the edifice. then the grandiloquent run of the firing locomotive were stretch_along upwardly. some fireman climb_up astir with hosiery in their custody. The uninterrupted implosion_therapy bring the firing under dominance but the edifice was wholly destruct\n",
            "Similarity = 42.65734265734265 %\n",
            "CPU times: user 46.5 ms, sys: 8.7 ms, total: 55.2 ms\n",
            "Wall time: 3.71 s\n"
          ]
        }
      ]
    }
  ]
}